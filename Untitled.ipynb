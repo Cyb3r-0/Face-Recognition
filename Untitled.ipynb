{
 "cells": [
  {
   "cell_type": "code",
   "execution_count": 10,
   "id": "d5676435",
   "metadata": {
    "scrolled": true
   },
   "outputs": [],
   "source": [
    "import cv2\n",
    "import face_recognition\n",
    "import numpy as np\n",
    "import os\n",
    "import csv\n",
    "from datetime import datetime, timedelta\n",
    "import time"
   ]
  },
  {
   "cell_type": "code",
   "execution_count": 11,
   "id": "4f83dc93",
   "metadata": {},
   "outputs": [],
   "source": [
    "# !pip uninstall open-cv"
   ]
  },
  {
   "cell_type": "code",
   "execution_count": 12,
   "id": "122d2a5b",
   "metadata": {},
   "outputs": [],
   "source": [
    "# Function to encode images in the given directory\n",
    "def encode_images(directory):\n",
    "    known_faces = []\n",
    "    known_names = []\n",
    "\n",
    "    for filename in os.listdir(directory):\n",
    "        if filename.endswith(\".jpg\") or filename.endswith(\".png\"):\n",
    "            img_path = os.path.join(directory, filename)\n",
    "            image = face_recognition.load_image_file(img_path)\n",
    "            encoding = face_recognition.face_encodings(image)[0]\n",
    "            known_faces.append(encoding)\n",
    "            known_names.append(os.path.splitext(filename)[0])\n",
    "\n",
    "    return known_faces, known_names"
   ]
  },
  {
   "cell_type": "code",
   "execution_count": 13,
   "id": "89d8a67a",
   "metadata": {},
   "outputs": [],
   "source": [
    "# Function to mark attendance\n",
    "def mark_attendance(name):\n",
    "    with open(\"attendance.csv\", \"a\") as file:\n",
    "        now = datetime.now()\n",
    "        date_string = now.strftime(\"%Y-%m-%d %H:%M:%S\")\n",
    "        file.write(f\"{name},{date_string}\\n\")\n"
   ]
  },
  {
   "cell_type": "code",
   "execution_count": 14,
   "id": "bb7a92c8",
   "metadata": {},
   "outputs": [],
   "source": [
    "# Main function for face recognition\n",
    "def main():\n",
    "    # Directory containing images of known faces\n",
    "    known_faces_dir = \"known_faces\"\n",
    "    known_faces_encodings, known_names = encode_images(known_faces_dir)\n",
    "\n",
    "    # Initialize webcam\n",
    "    cap = cv2.VideoCapture(0)\n",
    "\n",
    "    while True:\n",
    "        ret, frame = cap.read()\n",
    "        if not ret:\n",
    "            break\n",
    "\n",
    "        # Find faces in the frame\n",
    "        locations = face_recognition.face_locations(frame)\n",
    "        encodings = face_recognition.face_encodings(frame, locations)\n",
    "\n",
    "        for face_encoding, face_location in zip(encodings, locations):\n",
    "            # Compare face with known faces\n",
    "            matches = face_recognition.compare_faces(known_faces_encodings, face_encoding)\n",
    "            name = \"Unknown\"\n",
    "\n",
    "            if True in matches:\n",
    "                matched_index = matches.index(True)\n",
    "                name = known_names[matched_index]\n",
    "                mark_attendance(name)\n",
    "\n",
    "            # Draw rectangle around the face\n",
    "            top, right, bottom, left = face_location\n",
    "            cv2.rectangle(frame, (left, top), (right, bottom), (0, 255, 0), 2)\n",
    "            cv2.putText(frame, name, (left + 6, bottom - 6), cv2.FONT_HERSHEY_DUPLEX, 0.5, (255, 255, 255), 1)\n",
    "\n",
    "        cv2.imshow('Attendance System', frame)\n",
    "        if cv2.waitKey(1) & 0xFF == ord('q'):\n",
    "            break\n",
    "\n",
    "    cap.release()\n",
    "    cv2.destroyAllWindows()"
   ]
  },
  {
   "cell_type": "code",
   "execution_count": null,
   "id": "9b992791",
   "metadata": {},
   "outputs": [],
   "source": []
  },
  {
   "cell_type": "code",
   "execution_count": 16,
   "id": "3403e75f",
   "metadata": {},
   "outputs": [
    {
     "ename": "TypeError",
     "evalue": "mark_attendance() takes 1 positional argument but 2 were given",
     "output_type": "error",
     "traceback": [
      "\u001b[1;31m---------------------------------------------------------------------------\u001b[0m",
      "\u001b[1;31mTypeError\u001b[0m                                 Traceback (most recent call last)",
      "Cell \u001b[1;32mIn[16], line 2\u001b[0m\n\u001b[0;32m      1\u001b[0m \u001b[38;5;28;01mif\u001b[39;00m \u001b[38;5;18m__name__\u001b[39m \u001b[38;5;241m==\u001b[39m \u001b[38;5;124m\"\u001b[39m\u001b[38;5;124m__main__\u001b[39m\u001b[38;5;124m\"\u001b[39m:\n\u001b[1;32m----> 2\u001b[0m     main()\n",
      "Cell \u001b[1;32mIn[15], line 47\u001b[0m, in \u001b[0;36mmain\u001b[1;34m()\u001b[0m\n\u001b[0;32m     45\u001b[0m \u001b[38;5;28;01mif\u001b[39;00m time\u001b[38;5;241m.\u001b[39mtime() \u001b[38;5;241m-\u001b[39m start_time \u001b[38;5;241m>\u001b[39m\u001b[38;5;241m=\u001b[39m interval:\n\u001b[0;32m     46\u001b[0m     \u001b[38;5;28;01mfor\u001b[39;00m name \u001b[38;5;129;01min\u001b[39;00m known_names:\n\u001b[1;32m---> 47\u001b[0m         mark_attendance(name, attendance_file)\n\u001b[0;32m     48\u001b[0m     start_time \u001b[38;5;241m=\u001b[39m time\u001b[38;5;241m.\u001b[39mtime()\n\u001b[0;32m     50\u001b[0m cv2\u001b[38;5;241m.\u001b[39mimshow(\u001b[38;5;124m'\u001b[39m\u001b[38;5;124mAttendance System\u001b[39m\u001b[38;5;124m'\u001b[39m, frame)\n",
      "\u001b[1;31mTypeError\u001b[0m: mark_attendance() takes 1 positional argument but 2 were given"
     ]
    }
   ],
   "source": [
    "if __name__ == \"__main__\":\n",
    "    main()\n"
   ]
  },
  {
   "cell_type": "code",
   "execution_count": null,
   "id": "d907c2a6",
   "metadata": {},
   "outputs": [],
   "source": [
    "# !pip uninstall opencv-python-headless -y "
   ]
  },
  {
   "cell_type": "code",
   "execution_count": null,
   "id": "906785c9",
   "metadata": {},
   "outputs": [],
   "source": [
    "# !pip install opencv-python --upgrade"
   ]
  },
  {
   "cell_type": "code",
   "execution_count": null,
   "id": "6e16b039",
   "metadata": {},
   "outputs": [],
   "source": []
  }
 ],
 "metadata": {
  "kernelspec": {
   "display_name": "Python 3 (ipykernel)",
   "language": "python",
   "name": "python3"
  },
  "language_info": {
   "codemirror_mode": {
    "name": "ipython",
    "version": 3
   },
   "file_extension": ".py",
   "mimetype": "text/x-python",
   "name": "python",
   "nbconvert_exporter": "python",
   "pygments_lexer": "ipython3",
   "version": "3.11.5"
  }
 },
 "nbformat": 4,
 "nbformat_minor": 5
}
