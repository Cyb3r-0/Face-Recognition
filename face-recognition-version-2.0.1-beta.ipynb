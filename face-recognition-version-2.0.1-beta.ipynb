{
 "cells": [
  {
   "cell_type": "code",
   "execution_count": 1,
   "id": "f5e4ec76",
   "metadata": {},
   "outputs": [],
   "source": [
    "import cv2\n",
    "import face_recognition\n",
    "import numpy as np\n",
    "import os\n",
    "import csv\n",
    "from datetime import datetime, timedelta\n",
    "import time\n",
    "\n"
   ]
  },
  {
   "cell_type": "code",
   "execution_count": 2,
   "id": "0aaf8a17",
   "metadata": {},
   "outputs": [],
   "source": [
    "# Function to encode images in the given directory\n",
    "def encode_images(directory):\n",
    "    known_faces = []\n",
    "    known_names = []\n",
    "\n",
    "    for filename in os.listdir(directory):\n",
    "        if filename.endswith(\".jpg\") or filename.endswith(\".png\"):\n",
    "            img_path = os.path.join(directory, filename)\n",
    "            image = face_recognition.load_image_file(img_path)\n",
    "            encoding = face_recognition.face_encodings(image)[0]\n",
    "            known_faces.append(encoding)\n",
    "            known_names.append(os.path.splitext(filename)[0])\n",
    "\n",
    "    return known_faces, known_names"
   ]
  },
  {
   "cell_type": "code",
   "execution_count": 3,
   "id": "a9e5ab13",
   "metadata": {},
   "outputs": [],
   "source": [
    "# Function to mark attendance\n",
    "def mark_attendance(name, attendance_file):\n",
    "    with open(attendance_file, \"a\", newline='') as file:\n",
    "        writer = csv.writer(file)\n",
    "        now = datetime.now()\n",
    "        date_string = now.strftime(\"%Y-%m-%d %H:%M:%S\")\n",
    "        writer.writerow([name, date_string])"
   ]
  },
  {
   "cell_type": "code",
   "execution_count": 4,
   "id": "c7dd75ad",
   "metadata": {},
   "outputs": [],
   "source": [
    "# Main function for face recognition\n",
    "def main():\n",
    "    # Directory containing images of known faces\n",
    "    known_faces_dir = \"known_faces\"\n",
    "    known_faces_encodings, known_names = encode_images(known_faces_dir)\n",
    "\n",
    "    # CSV file to store attendance\n",
    "    attendance_file = \"attendance.csv\"\n",
    "    if not os.path.isfile(attendance_file):\n",
    "        with open(attendance_file, 'w', newline='') as file:\n",
    "            writer = csv.writer(file)\n",
    "            writer.writerow([\"Name\", \"Date_Time\"])\n",
    "\n",
    "    # Initialize webcam\n",
    "    cap = cv2.VideoCapture(0)\n",
    "\n",
    "    # Timer variables\n",
    "    start_time = time.time()\n",
    "    interval = 30  # in seconds\n",
    "\n",
    "    while True:\n",
    "        ret, frame = cap.read()\n",
    "        if not ret:\n",
    "            break\n",
    "\n",
    "        # Find faces in the frame\n",
    "        locations = face_recognition.face_locations(frame)\n",
    "        encodings = face_recognition.face_encodings(frame, locations)\n",
    "\n",
    "        for face_encoding, face_location in zip(encodings, locations):\n",
    "            # Compare face with known faces\n",
    "            matches = face_recognition.compare_faces(known_faces_encodings, face_encoding)\n",
    "            name = \"Unknown\"\n",
    "\n",
    "            if True in matches:\n",
    "                matched_index = matches.index(True)\n",
    "                name = known_names[matched_index]\n",
    "\n",
    "            # Draw rectangle around the face\n",
    "            top, right, bottom, left = face_location\n",
    "            cv2.rectangle(frame, (left, top), (right, bottom), (0, 255, 0), 2)\n",
    "            cv2.putText(frame, name, (left + 6, bottom - 6), cv2.FONT_HERSHEY_DUPLEX, 0.5, (255, 255, 255), 1)\n",
    "\n",
    "        # Check if 30 seconds have passed\n",
    "        if time.time() - start_time >= interval:\n",
    "            for name in known_names:\n",
    "                mark_attendance(name, attendance_file)\n",
    "            start_time = time.time()\n",
    "\n",
    "        cv2.imshow('Attendance System', frame)\n",
    "        if cv2.waitKey(1) & 0xFF == ord('q'):\n",
    "            break\n",
    "\n",
    "    cap.release()\n",
    "    cv2.destroyAllWindows()"
   ]
  },
  {
   "cell_type": "code",
   "execution_count": 5,
   "id": "af8bd96e",
   "metadata": {},
   "outputs": [
    {
     "ename": "KeyboardInterrupt",
     "evalue": "",
     "output_type": "error",
     "traceback": [
      "\u001b[1;31m---------------------------------------------------------------------------\u001b[0m",
      "\u001b[1;31mKeyboardInterrupt\u001b[0m                         Traceback (most recent call last)",
      "Cell \u001b[1;32mIn[5], line 2\u001b[0m\n\u001b[0;32m      1\u001b[0m \u001b[38;5;28;01mif\u001b[39;00m \u001b[38;5;18m__name__\u001b[39m \u001b[38;5;241m==\u001b[39m \u001b[38;5;124m\"\u001b[39m\u001b[38;5;124m__main__\u001b[39m\u001b[38;5;124m\"\u001b[39m:\n\u001b[1;32m----> 2\u001b[0m     main()\n",
      "Cell \u001b[1;32mIn[4], line 27\u001b[0m, in \u001b[0;36mmain\u001b[1;34m()\u001b[0m\n\u001b[0;32m     24\u001b[0m     \u001b[38;5;28;01mbreak\u001b[39;00m\n\u001b[0;32m     26\u001b[0m \u001b[38;5;66;03m# Find faces in the frame\u001b[39;00m\n\u001b[1;32m---> 27\u001b[0m locations \u001b[38;5;241m=\u001b[39m face_recognition\u001b[38;5;241m.\u001b[39mface_locations(frame)\n\u001b[0;32m     28\u001b[0m encodings \u001b[38;5;241m=\u001b[39m face_recognition\u001b[38;5;241m.\u001b[39mface_encodings(frame, locations)\n\u001b[0;32m     30\u001b[0m \u001b[38;5;28;01mfor\u001b[39;00m face_encoding, face_location \u001b[38;5;129;01min\u001b[39;00m \u001b[38;5;28mzip\u001b[39m(encodings, locations):\n\u001b[0;32m     31\u001b[0m     \u001b[38;5;66;03m# Compare face with known faces\u001b[39;00m\n",
      "File \u001b[1;32m~\\AppData\\Roaming\\Python\\Python311\\site-packages\\face_recognition\\api.py:121\u001b[0m, in \u001b[0;36mface_locations\u001b[1;34m(img, number_of_times_to_upsample, model)\u001b[0m\n\u001b[0;32m    119\u001b[0m     \u001b[38;5;28;01mreturn\u001b[39;00m [_trim_css_to_bounds(_rect_to_css(face\u001b[38;5;241m.\u001b[39mrect), img\u001b[38;5;241m.\u001b[39mshape) \u001b[38;5;28;01mfor\u001b[39;00m face \u001b[38;5;129;01min\u001b[39;00m _raw_face_locations(img, number_of_times_to_upsample, \u001b[38;5;124m\"\u001b[39m\u001b[38;5;124mcnn\u001b[39m\u001b[38;5;124m\"\u001b[39m)]\n\u001b[0;32m    120\u001b[0m \u001b[38;5;28;01melse\u001b[39;00m:\n\u001b[1;32m--> 121\u001b[0m     \u001b[38;5;28;01mreturn\u001b[39;00m [_trim_css_to_bounds(_rect_to_css(face), img\u001b[38;5;241m.\u001b[39mshape) \u001b[38;5;28;01mfor\u001b[39;00m face \u001b[38;5;129;01min\u001b[39;00m _raw_face_locations(img, number_of_times_to_upsample, model)]\n",
      "File \u001b[1;32m~\\AppData\\Roaming\\Python\\Python311\\site-packages\\face_recognition\\api.py:105\u001b[0m, in \u001b[0;36m_raw_face_locations\u001b[1;34m(img, number_of_times_to_upsample, model)\u001b[0m\n\u001b[0;32m    103\u001b[0m     \u001b[38;5;28;01mreturn\u001b[39;00m cnn_face_detector(img, number_of_times_to_upsample)\n\u001b[0;32m    104\u001b[0m \u001b[38;5;28;01melse\u001b[39;00m:\n\u001b[1;32m--> 105\u001b[0m     \u001b[38;5;28;01mreturn\u001b[39;00m face_detector(img, number_of_times_to_upsample)\n",
      "\u001b[1;31mKeyboardInterrupt\u001b[0m: "
     ]
    }
   ],
   "source": [
    "if __name__ == \"__main__\":\n",
    "    main()"
   ]
  },
  {
   "cell_type": "code",
   "execution_count": null,
   "id": "0a10c295",
   "metadata": {},
   "outputs": [],
   "source": []
  },
  {
   "cell_type": "code",
   "execution_count": null,
   "id": "d5da9b27",
   "metadata": {},
   "outputs": [],
   "source": []
  }
 ],
 "metadata": {
  "kernelspec": {
   "display_name": "Python 3 (ipykernel)",
   "language": "python",
   "name": "python3"
  },
  "language_info": {
   "codemirror_mode": {
    "name": "ipython",
    "version": 3
   },
   "file_extension": ".py",
   "mimetype": "text/x-python",
   "name": "python",
   "nbconvert_exporter": "python",
   "pygments_lexer": "ipython3",
   "version": "3.11.5"
  }
 },
 "nbformat": 4,
 "nbformat_minor": 5
}
